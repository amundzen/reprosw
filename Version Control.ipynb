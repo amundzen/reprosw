{
 "metadata": {
  "name": "Version Control"
 },
 "nbformat": 3,
 "nbformat_minor": 0,
 "worksheets": [
  {
   "cells": [
    {
     "cell_type": "heading",
     "level": 1,
     "metadata": {
      "slideshow": {
       "slide_type": "slide"
      }
     },
     "source": [
      "Version control for fun and profit: the tool you didn't know you needed. From personal workflows to open collaboration"
     ]
    },
    {
     "cell_type": "heading",
     "level": 2,
     "metadata": {},
     "source": [
      "Wikipedia"
     ]
    },
    {
     "cell_type": "markdown",
     "metadata": {},
     "source": [
      "\u201cRevision control, also known as version control, source control\n",
      "or software configuration management (SCM), is the\n",
      "**management of changes to documents, programs, and other\n",
      "information stored as computer files.**\u201d"
     ]
    },
    {
     "cell_type": "heading",
     "level": 2,
     "metadata": {
      "slideshow": {
       "slide_type": "subslide"
      }
     },
     "source": [
      "Motivation"
     ]
    },
    {
     "cell_type": "markdown",
     "metadata": {},
     "source": [
      "**Reproducibility?**\n",
      "\n",
      "* Tracking and recreating every step of your work\n",
      "* In the software world: it's called *Version Control*!\n",
      "\n",
      "What do (good) version control tools give you?\n",
      "\n",
      "* Peace of mind (backups)\n",
      "* Freedom (exploratory branching)\n",
      "* Collaboration (synchronization)\n"
     ]
    },
    {
     "cell_type": "heading",
     "level": 2,
     "metadata": {
      "slideshow": {
       "slide_type": "slide"
      }
     },
     "source": [
      "Git is an enabling technology: Use version control for everything"
     ]
    },
    {
     "cell_type": "markdown",
     "metadata": {},
     "source": [
      "* Paper writing (never get `paper_v5_john_jane_final_oct22_really_final.tex` by email again!)\n",
      "* Grant writing\n",
      "* Everyday research\n",
      "* Teaching (never accept an emailed homework assignment again!)"
     ]
    },
    {
     "cell_type": "heading",
     "level": 2,
     "metadata": {
      "slideshow": {
       "slide_type": "slide"
      }
     },
     "source": [
      "Teaching courses with Git"
     ]
    },
    {
     "cell_type": "markdown",
     "metadata": {},
     "source": [
      "![img](files/fig/indefero_projects_notes.png)"
     ]
    },
    {
     "cell_type": "heading",
     "level": 2,
     "metadata": {
      "slideshow": {
       "slide_type": "slide"
      }
     },
     "source": [
      "Annotated history of each student's worfklow (and backup!)"
     ]
    },
    {
     "cell_type": "markdown",
     "metadata": {},
     "source": [
      "![i](files/fig/indefero_projects1.png)"
     ]
    },
    {
     "cell_type": "heading",
     "level": 2,
     "metadata": {
      "slideshow": {
       "slide_type": "slide"
      }
     },
     "source": [
      "Very high level picture: an overview of key concepts"
     ]
    },
    {
     "cell_type": "markdown",
     "metadata": {},
     "source": [
      "The **commit**: *a snapshot of work at a point in time*\n",
      "\n",
      "![](files/fig/commit_anatomy.png)\n",
      "\n",
      "Credit: ProGit book, by Scott Chacon, CC License."
     ]
    },
    {
     "cell_type": "markdown",
     "metadata": {
      "slideshow": {
       "slide_type": "subslide"
      }
     },
     "source": [
      "A *repository*: a group of *linked* commits\n",
      "\n",
      "![](files/fig/threecommits.png)\n",
      "\n",
      "Note: these form a Directed Acyclic Graph (DAG), with nodes identified by their *hash*."
     ]
    },
    {
     "cell_type": "markdown",
     "metadata": {},
     "source": [
      "Hashes"
     ]
    },
    {
     "cell_type": "heading",
     "level": 2,
     "metadata": {
      "slideshow": {
       "slide_type": "slide"
      }
     },
     "source": [
      "Local, single-user, linear workflow"
     ]
    },
    {
     "cell_type": "markdown",
     "metadata": {},
     "source": [
      "First things first: a little bit of configuration\n",
      "\n",
      "* Email/name\n",
      "* Editor: ``$EDITOR`` and git's mechanisms.\n",
      "* Extra but very useful: branch names in shell prompts."
     ]
    },
    {
     "cell_type": "heading",
     "level": 3,
     "metadata": {},
     "source": [
      "Notes: the minimal command set"
     ]
    },
    {
     "cell_type": "markdown",
     "metadata": {},
     "source": [
      "In local use:\n",
      "\n",
      "- init\n",
      "- add\n",
      "- status\n",
      "- commit (-a)\n",
      "- reset\n",
      "- diff\n",
      "- log\n",
      "- mv/rm"
     ]
    },
    {
     "cell_type": "heading",
     "level": 2,
     "metadata": {
      "slideshow": {
       "slide_type": "slide"
      }
     },
     "source": [
      "Local user, branching"
     ]
    },
    {
     "cell_type": "markdown",
     "metadata": {},
     "source": [
      "When branches appear:\n",
      "\n",
      "- branch\n",
      "- checkout\n",
      "- merge\n",
      "\n",
      "Let's cover\n",
      "\n",
      "- branch creation\n",
      "- switching\n",
      "- merging\n",
      "- conflicts\n",
      "\n"
     ]
    },
    {
     "cell_type": "markdown",
     "metadata": {},
     "source": [
      "Slightly more advanced:\n",
      "\n",
      "- show\n",
      "- reflog\n",
      "- rebase"
     ]
    },
    {
     "cell_type": "heading",
     "level": 2,
     "metadata": {
      "slideshow": {
       "slide_type": "slide"
      }
     },
     "source": [
      "Using remotes as a single user"
     ]
    },
    {
     "cell_type": "markdown",
     "metadata": {},
     "source": [
      "First things first, a little configuration:\n",
      "- github account\n",
      "- ssh keys for github\n",
      "\n",
      "Uses:\n",
      "\n",
      "- A single remote, 'origin'\n",
      "- Backup\n",
      "- Multi-machine synchronization\n",
      "\n",
      "When remotes appear:\n",
      "\n",
      "- push\n",
      "- pull\n",
      "- remote\n",
      "- clone"
     ]
    },
    {
     "cell_type": "heading",
     "level": 2,
     "metadata": {
      "slideshow": {
       "slide_type": "slide"
      }
     },
     "source": [
      "Collaborating on github with a small team"
     ]
    },
    {
     "cell_type": "markdown",
     "metadata": {},
     "source": [
      "Single remote with shared access."
     ]
    },
    {
     "cell_type": "heading",
     "level": 2,
     "metadata": {
      "slideshow": {
       "slide_type": "slide"
      }
     },
     "source": [
      "Full-contact github: distributed collaboration with large teams"
     ]
    },
    {
     "cell_type": "markdown",
     "metadata": {},
     "source": [
      "Multiple remotes and merging based on pull request workflow."
     ]
    },
    {
     "cell_type": "code",
     "collapsed": false,
     "input": [],
     "language": "python",
     "metadata": {},
     "outputs": []
    },
    {
     "cell_type": "heading",
     "level": 2,
     "metadata": {},
     "source": [
      "More resources"
     ]
    },
    {
     "cell_type": "heading",
     "level": 3,
     "metadata": {},
     "source": [
      "Introductory materials"
     ]
    },
    {
     "cell_type": "markdown",
     "metadata": {},
     "source": [
      "There are lots of good tutorials and introductions for Git, which you\n",
      "can easily find yourself; this is just a short list of things I've found\n",
      "useful.\n",
      "\n",
      "For a beginner, I would recommend the following 'core' reading list, and\n",
      "below I mention a few extra resources:\n",
      "\n",
      "1.  The concise [GitRef](http://gitref.org) reference: written by one of\n",
      "    the authors of the excellent GitHub.com site, it's very compact but\n",
      "    contains all the key ideas with the right approach. If you only read\n",
      "    one document, make it this one.\n",
      "\n",
      "2. In my own experience, the most useful resource was [Understanding Git\n",
      "Conceptually](http://www.eecs.harvard.edu/~cduan/technical/git/).\n",
      "Git has a reputation for being hard to use, but I have found that with a\n",
      "clear view of what is actually a *very simple* internal design, its\n",
      "behavior is remarkably consistent, simple and comprehensible.\n",
      "\n",
      "3.  For a bit more detail, see the start of the excellent [Pro\n",
      "    Git](http://progit.org/book) online book, or similarly the early\n",
      "    parts of the [Git community book](http://book.git-scm.com). Pro\n",
      "    Git's chapters are very short and well illustrated; the community\n",
      "    book tends to have more detail and has nice screencasts at the end\n",
      "    of some sections.\n",
      "\n",
      "\n",
      "If you are really impatient and just want a quick start, this [visual\n",
      "git tutorial](http://www.ralfebert.de/blog/tools/visual_git_tutorial_1)\n",
      "may be sufficient. It is nicely illustrated with diagrams that show what\n",
      "happens on the filesystem.\n",
      "\n",
      "For windows users, [an Illustrated Guide to Git on\n",
      "Windows](http://nathanj.github.com/gitguide/tour.html) is useful in that\n",
      "it contains also some information about handling SSH (necessary to\n",
      "interface with git hosted on remote servers when collaborating) as well\n",
      "as screenshots of the Windows interface.\n",
      "\n",
      "At some point, it will pay off to understand how git itself is *built*.  These two documents, written in a similar spirit, \n",
      "are probably the most useful descriptions of the Git architecture short of diving into the actual implementation.  They walk you through\n",
      "how you would go about building a version control system with a little story. By the end you realize that Git's model is almost\n",
      "an inevitable outcome of the proposed constraints:\n",
      "\n",
      "* The [Git parable](http://tom.preston-werner.com/2009/05/19/the-git-parable.html) by Tom Preston-Werner.\n",
      "* [Git foundations](http://matthew-brett.github.com/pydagogue/foundation.html) by Matthew Brett."
     ]
    },
    {
     "cell_type": "heading",
     "level": 2,
     "metadata": {},
     "source": [
      "Other resources"
     ]
    },
    {
     "cell_type": "markdown",
     "metadata": {},
     "source": [
      "Cheat sheets\n",
      ":   Two different\n",
      "    [cheat](http://zrusin.blogspot.com/2007/09/git-cheat-sheet.html)\n",
      "    [sheets](http://jan-krueger.net/development/git-cheat-sheet-extended-edition)\n",
      "    in PDF format that can be printed for frequent reference.\n",
      "\n",
      "[Git ready](http://www.gitready.com)\n",
      ":   A great website of posts on specific git-related topics, organized\n",
      "    by difficulty.\n",
      "\n",
      "[QGit](http://sourceforge.net/projects/qgit/): an excellent Git GUI\n",
      ":   Git ships by default with gitk and git-gui, a pair of Tk graphical\n",
      "    clients to browse a repo and to operate in it. I personally have\n",
      "    found [qgit](http://sourceforge.net/projects/qgit/) to be nicer and\n",
      "    easier to use. It is available on modern linux distros, and since it\n",
      "    is based on Qt, it should run on OSX and Windows.\n",
      "\n",
      "[Git Magic](http://www-cs-students.stanford.edu/~blynn/gitmagic/index.html)\n",
      ":   Another book-size guide that has useful snippets.\n",
      "\n",
      "The [learning center](http://learn.github.com) at Github\n",
      ":   Guides on a number of topics, some specific to github hosting but\n",
      "    much of it of general value.\n",
      "\n",
      "A [port](http://cworth.org/hgbook-git/tour) of the Hg book's beginning\n",
      ":   The [Mercurial book](http://hgbook.red-bean.com) has a reputation\n",
      "    for clarity, so Carl Worth decided to\n",
      "    [port](http://cworth.org/hgbook-git/tour) its introductory chapter\n",
      "    to Git. It's a nicely written intro, which is possible in good\n",
      "    measure because of how similar the underlying models of Hg and Git\n",
      "    ultimately are.\n",
      "\n",
      "[Intermediate tips](http://andyjeffries.co.uk/articles/25-tips-for-intermediate-git-users)\n",
      ":   A set of tips that contains some very valuable nuggets, once you're\n",
      "    past the basics."
     ]
    },
    {
     "cell_type": "markdown",
     "metadata": {},
     "source": [
      "## For SVN users\n",
      "\n",
      "If you want a bit more background on why the model of version control\n",
      "used by Git and Mercurial (known as distributed version control) is such\n",
      "a good idea, I encourage you to read this very well written\n",
      "[post](http://www.joelonsoftware.com/items/2010/03/17.html) by Joel\n",
      "Spolsky on the topic. After that post, Joel created a very nice\n",
      "Mercurial tutorial, whose [first page](http://hginit.com/00.html)\n",
      "applies equally well to git and is a very good 're-education' for anyone\n",
      "coming from an SVN (or similar) background.\n",
      "\n",
      "In practice, I think you are better off following Joel's advice and\n",
      "understanding git on its own merits instead of trying to bang SVN\n",
      "concepts into git shapes. But for the occasional translation from SVN to\n",
      "Git of a specific idiom, the [Git - SVN Crash\n",
      "Course](http://git-scm.org/course/svn.html) can be handy."
     ]
    },
    {
     "cell_type": "heading",
     "level": 2,
     "metadata": {},
     "source": [
      "Tips"
     ]
    },
    {
     "cell_type": "markdown",
     "metadata": {},
     "source": [
      "### Better shell support\n",
      "\n",
      "(Sent by Nate Vack to the nipy mailing list)\n",
      "\n",
      "Adding git branch info to your bash prompt and tab completion for git\n",
      "commands and branches; they make git life really brilliant:\n",
      "\n",
      "-   [http://github.com/slawcup/dotfiles/blob/master/.git-completion.bash](http://github.com/slawcup/dotfiles/blob/master/.git-completion.bash)\n",
      "\n",
      "-   [http://railstips.org/blog/archives/2009/02/02/bedazzle-your-bash-prompt-with-git-info](http://railstips.org/blog/archives/2009/02/02/bedazzle-your-bash-prompt-with-git-info)\n",
      "\n",
      "### Embedding Git information in LaTeX documents\n",
      "\n",
      "(Sent by [Yaroslav Halchenko](http://www.onerussian.com))\n",
      "\n",
      "I use a Make rule:\n",
      "\n",
      "    # Helper if interested in providing proper version tag within the manuscript\n",
      "    revision.tex: ../misc/revision.tex.in ../.git/index\n",
      "       GITID=$$(git log -1 | grep -e '^commit' -e '^Date:' | sed  -e 's/^[^ ]* *//g' | tr '\\n' ' '); \\\n",
      "       echo $$GITID; \\\n",
      "       sed -e \"s/GITID/$$GITID/g\" $< >| $@\n",
      "\n",
      "in the top level `Makefile.common` which is included in all\n",
      "subdirectories which actually contain papers (hence all those\n",
      "`../.git`). The `revision.tex.in` file is simply:\n",
      "\n",
      "    % Embed GIT ID revision and date\n",
      "    \\def\\revision{GITID}\n",
      "\n",
      "The corresponding `paper.pdf` depends on `revision.tex` and includes the\n",
      "line `\\input{revision}` to load up the actual revision mark.\n",
      "\n",
      "### git export\n",
      "\n",
      "Git doesn't have a native export command, but this works just fine:\n",
      "\n",
      "    git archive --prefix=fperez.org/  master | gzip > ~/tmp/source.tgz"
     ]
    },
    {
     "cell_type": "code",
     "collapsed": false,
     "input": [],
     "language": "python",
     "metadata": {},
     "outputs": []
    }
   ],
   "metadata": {}
  }
 ]
}